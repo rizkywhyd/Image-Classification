{
  "nbformat": 4,
  "nbformat_minor": 0,
  "metadata": {
    "colab": {
      "name": "Image Classification Deployment Rizky.ipynb",
      "provenance": [],
      "collapsed_sections": []
    },
    "kernelspec": {
      "name": "python3",
      "display_name": "Python 3"
    },
    "language_info": {
      "name": "python"
    }
  },
  "cells": [
    {
      "cell_type": "markdown",
      "metadata": {
        "id": "vr6ORc48MtQ-"
      },
      "source": [
        "**Nama : Rizky Wahyudi**\n",
        "**<p>Email : rizkywhyd10@gmail.com**\n",
        "<p>Sumber Data : https://www.kaggle.com/viratkothari/animal10"
      ]
    },
    {
      "cell_type": "code",
      "metadata": {
        "id": "0aqMpJJRRvZj"
      },
      "source": [
        "# install kaggle package\n",
        "!pip install -q kaggle"
      ],
      "execution_count": null,
      "outputs": []
    },
    {
      "cell_type": "code",
      "metadata": {
        "colab": {
          "resources": {
            "http://localhost:8080/nbextensions/google.colab/files.js": {
              "data": "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",
              "ok": true,
              "headers": [
                [
                  "content-type",
                  "application/javascript"
                ]
              ],
              "status": 200,
              "status_text": ""
            }
          },
          "base_uri": "https://localhost:8080/",
          "height": 91
        },
        "id": "-qo6im4QRxB9",
        "outputId": "b2fb8ff4-635f-45e3-cfc8-678a57824548"
      },
      "source": [
        "# upload kaggle.json\n",
        "from google.colab import files\n",
        "files.upload()"
      ],
      "execution_count": null,
      "outputs": [
        {
          "output_type": "display_data",
          "data": {
            "text/html": [
              "\n",
              "     <input type=\"file\" id=\"files-591fe7e5-fa07-4f49-b017-29f811e4fd19\" name=\"files[]\" multiple disabled\n",
              "        style=\"border:none\" />\n",
              "     <output id=\"result-591fe7e5-fa07-4f49-b017-29f811e4fd19\">\n",
              "      Upload widget is only available when the cell has been executed in the\n",
              "      current browser session. Please rerun this cell to enable.\n",
              "      </output>\n",
              "      <script src=\"/nbextensions/google.colab/files.js\"></script> "
            ],
            "text/plain": [
              "<IPython.core.display.HTML object>"
            ]
          },
          "metadata": {
            "tags": []
          }
        },
        {
          "output_type": "stream",
          "text": [
            "Saving kaggle.json to kaggle (2).json\n"
          ],
          "name": "stdout"
        },
        {
          "output_type": "execute_result",
          "data": {
            "text/plain": [
              "{'kaggle.json': b'{\"username\":\"rizkywahyudi\",\"key\":\"58615af9e76bc417249d60dd9d5ad11c\"}'}"
            ]
          },
          "metadata": {
            "tags": []
          },
          "execution_count": 8
        }
      ]
    },
    {
      "cell_type": "code",
      "metadata": {
        "colab": {
          "base_uri": "https://localhost:8080/"
        },
        "id": "W3y4lf_URxLD",
        "outputId": "0836703a-aba4-46d3-c659-11bbefb41ae0"
      },
      "source": [
        "!mkdir -p ~/.kaggle\n",
        "!cp kaggle.json ~/.kaggle/\n",
        "!chmod 600 ~/.kaggle/kaggle.json\n",
        "!ls ~/.kaggle"
      ],
      "execution_count": null,
      "outputs": [
        {
          "output_type": "stream",
          "text": [
            "kaggle.json\n"
          ],
          "name": "stdout"
        }
      ]
    },
    {
      "cell_type": "code",
      "metadata": {
        "colab": {
          "base_uri": "https://localhost:8080/"
        },
        "id": "V0rKVFNxRxVF",
        "outputId": "b0830e7d-1249-4044-83ac-c34087400d5d"
      },
      "source": [
        "#memilih dataset\n",
        "!kaggle datasets download -d viratkothari/animal10"
      ],
      "execution_count": null,
      "outputs": [
        {
          "output_type": "stream",
          "text": [
            "animal10.zip: Skipping, found more recently modified local copy (use --force to force download)\n"
          ],
          "name": "stdout"
        }
      ]
    },
    {
      "cell_type": "code",
      "metadata": {
        "colab": {
          "base_uri": "https://localhost:8080/"
        },
        "id": "gT-lxCDCSGj2",
        "outputId": "f47dc0af-7856-4af1-81e0-c8965f0ba497"
      },
      "source": [
        "# unzip data dari kaggle yang telah diimpor\n",
        "!mkdir animals\n",
        "!unzip -qq animal10.zip -d animals\n",
        "!ls animals"
      ],
      "execution_count": null,
      "outputs": [
        {
          "output_type": "stream",
          "text": [
            "mkdir: cannot create directory ‘animals’: File exists\n",
            "replace animals/Animals-10/butterfly/butterfly (1).jpeg? [y]es, [n]o, [A]ll, [N]one, [r]ename: A\n",
            "A\n",
            "Animals-10\n"
          ],
          "name": "stdout"
        }
      ]
    },
    {
      "cell_type": "code",
      "metadata": {
        "colab": {
          "base_uri": "https://localhost:8080/"
        },
        "id": "BAFrdOUMSZ0G",
        "outputId": "e453f555-6779-4351-f3a5-0624c863e7be"
      },
      "source": [
        "!ls animals/Animals-10"
      ],
      "execution_count": null,
      "outputs": [
        {
          "output_type": "stream",
          "text": [
            "butterfly  cat\tchicken  cow  dog  elephant  horse  sheep  spider  squirrel\n"
          ],
          "name": "stdout"
        }
      ]
    },
    {
      "cell_type": "code",
      "metadata": {
        "colab": {
          "base_uri": "https://localhost:8080/"
        },
        "id": "Ac6qozF9S21q",
        "outputId": "f8fbb2d5-740a-4fa0-f942-d8b9e50061ba"
      },
      "source": [
        "import os\n",
        "\n",
        "animals = os.path.join('/content/animals/Animals-10')\n",
        "\n",
        "print(os.listdir(animals))"
      ],
      "execution_count": null,
      "outputs": [
        {
          "output_type": "stream",
          "text": [
            "['cow', 'elephant', 'horse', 'chicken', 'sheep', 'butterfly', 'spider', 'squirrel', 'dog', 'cat']\n"
          ],
          "name": "stdout"
        }
      ]
    },
    {
      "cell_type": "code",
      "metadata": {
        "colab": {
          "base_uri": "https://localhost:8080/"
        },
        "id": "CRMmfugvTHc0",
        "outputId": "a27e5203-a81b-4c9e-e919-df550a385983"
      },
      "source": [
        "#mengecek label dalam data\n",
        "list_animals = os.listdir(animals)\n",
        "print(list_animals)"
      ],
      "execution_count": null,
      "outputs": [
        {
          "output_type": "stream",
          "text": [
            "['cow', 'elephant', 'horse', 'chicken', 'sheep', 'butterfly', 'spider', 'squirrel', 'dog', 'cat']\n"
          ],
          "name": "stdout"
        }
      ]
    },
    {
      "cell_type": "code",
      "metadata": {
        "id": "vnstaSTpP7Af"
      },
      "source": [
        "#menghapus beberapa data hewan\n",
        "import shutil\n",
        "\n",
        "ignore_animals = ['squirrel', 'sheep', 'cat', 'cow', 'dog', 'elephant', 'horse']\n",
        "\n",
        "for x in ignore_animals:\n",
        "  path = os.path.join(animals, x)\n",
        "  shutil.rmtree(path)"
      ],
      "execution_count": null,
      "outputs": []
    },
    {
      "cell_type": "code",
      "metadata": {
        "colab": {
          "base_uri": "https://localhost:8080/"
        },
        "id": "Zg_ZUziPQfah",
        "outputId": "e8b55fd3-2b8f-4eb7-9f1e-e172d3c3b0b2"
      },
      "source": [
        "#mengecek sisa data hewan yang tersedia, yaitu 3 label hewan\n",
        "list_animals = os.listdir(animals)\n",
        "print(list_animals)"
      ],
      "execution_count": null,
      "outputs": [
        {
          "output_type": "stream",
          "text": [
            "['chicken', 'butterfly', 'spider']\n"
          ],
          "name": "stdout"
        }
      ]
    },
    {
      "cell_type": "code",
      "metadata": {
        "colab": {
          "base_uri": "https://localhost:8080/"
        },
        "id": "IzGK4tT3TSLL",
        "outputId": "d1b06d24-6ac2-4757-eef4-3f173c731b36"
      },
      "source": [
        "#melihat jumlah data dan resolusi gambar\n",
        "from PIL import Image\n",
        "total = 0\n",
        "\n",
        "for x in list_animals:\n",
        "  dir = os.path.join(animals, x)\n",
        "  y = len(os.listdir(dir))\n",
        "  print(x+':', y)\n",
        "  total = total + y\n",
        "  \n",
        "  img_name = os.listdir(dir)\n",
        "  for z in range(4):\n",
        "    img_path = os.path.join(dir, img_name[z])\n",
        "    img = Image.open(img_path)\n",
        "    print('-',img.size)\n",
        "  print('---------------')\n",
        "\n",
        "print('\\nJumlah Gambar :', total)"
      ],
      "execution_count": null,
      "outputs": [
        {
          "output_type": "stream",
          "text": [
            "chicken: 3098\n",
            "- (300, 226)\n",
            "- (300, 225)\n",
            "- (300, 247)\n",
            "- (300, 283)\n",
            "---------------\n",
            "butterfly: 2112\n",
            "- (269, 300)\n",
            "- (300, 230)\n",
            "- (300, 225)\n",
            "- (640, 392)\n",
            "---------------\n",
            "spider: 4821\n",
            "- (640, 385)\n",
            "- (640, 426)\n",
            "- (297, 300)\n",
            "- (245, 300)\n",
            "---------------\n",
            "\n",
            "Jumlah Gambar : 10031\n"
          ],
          "name": "stdout"
        }
      ]
    },
    {
      "cell_type": "code",
      "metadata": {
        "id": "09VjU3qaUKa1"
      },
      "source": [
        "#menginput image data generator dan melakukan split data ke dalam validasi sebesar 20%\n",
        "from tensorflow.keras.preprocessing.image import ImageDataGenerator\n",
        " \n",
        "train_datagen = ImageDataGenerator(\n",
        "    rotation_range=40,\n",
        "    width_shift_range=0.2,\n",
        "    height_shift_range=0.2,\n",
        "    rescale=1/255,\n",
        "    shear_range=0.2,\n",
        "    zoom_range=0.2,\n",
        "    horizontal_flip=True,\n",
        "    fill_mode='nearest',\n",
        "    validation_split=0.2   \n",
        ")"
      ],
      "execution_count": null,
      "outputs": []
    },
    {
      "cell_type": "code",
      "metadata": {
        "colab": {
          "base_uri": "https://localhost:8080/"
        },
        "id": "k7GKIDcqUQt6",
        "outputId": "ac3d712b-7ff2-4659-d45b-236b3d3d1128"
      },
      "source": [
        "#mengecek direktori data train dan validation\n",
        "batch_size = 40\n",
        "\n",
        "data_train = train_datagen.flow_from_directory(\n",
        "    animals,\n",
        "    target_size=(150, 150),\n",
        "    batch_size=batch_size,\n",
        "    class_mode='categorical',\n",
        "    subset='training')\n",
        "\n",
        "data_val = train_datagen.flow_from_directory(\n",
        "    animals, \n",
        "    target_size=(150, 150),\n",
        "    batch_size=batch_size,\n",
        "    class_mode='categorical',\n",
        "    subset='validation')"
      ],
      "execution_count": null,
      "outputs": [
        {
          "output_type": "stream",
          "text": [
            "Found 8026 images belonging to 3 classes.\n",
            "Found 2005 images belonging to 3 classes.\n"
          ],
          "name": "stdout"
        }
      ]
    },
    {
      "cell_type": "code",
      "metadata": {
        "id": "QkQNvN8qUfJD",
        "colab": {
          "base_uri": "https://localhost:8080/"
        },
        "outputId": "d104c2c9-e6af-4c19-b1aa-260eecfe4ddb"
      },
      "source": [
        "#membuat model dengan sequential, Maax Pooling, Dropout, serta Optimizer\n",
        "import tensorflow as tf\n",
        "\n",
        "tf.device('/device:GPU:0')\n",
        "\n",
        "model = tf.keras.models.Sequential([\n",
        "    tf.keras.layers.Conv2D(64, (3,3), activation='relu', input_shape=(150, 150, 3)),\n",
        "    tf.keras.layers.MaxPooling2D(2, 2),\n",
        "    tf.keras.layers.Conv2D(64, (3,3), activation='relu'),\n",
        "    tf.keras.layers.MaxPooling2D(2,2),\n",
        "    tf.keras.layers.Conv2D(128, (3,3), activation='relu'),\n",
        "    tf.keras.layers.MaxPooling2D(2,2),\n",
        "    tf.keras.layers.Conv2D(128, (3,3), activation='relu'),\n",
        "    tf.keras.layers.MaxPooling2D(2,2),\n",
        "    tf.keras.layers.Flatten(),\n",
        "    tf.keras.layers.Dropout(0.5), \n",
        "    tf.keras.layers.Dense(512, activation='relu'),\n",
        "    tf.keras.layers.Dense(3, activation='softmax')\n",
        "])\n",
        "\n",
        "model.compile(optimizer='adam',\n",
        "              loss='categorical_crossentropy',\n",
        "              metrics = ['accuracy'])\n",
        "\n",
        "model.summary()"
      ],
      "execution_count": null,
      "outputs": [
        {
          "output_type": "stream",
          "text": [
            "Model: \"sequential_5\"\n",
            "_________________________________________________________________\n",
            "Layer (type)                 Output Shape              Param #   \n",
            "=================================================================\n",
            "conv2d_20 (Conv2D)           (None, 148, 148, 64)      1792      \n",
            "_________________________________________________________________\n",
            "max_pooling2d_20 (MaxPooling (None, 74, 74, 64)        0         \n",
            "_________________________________________________________________\n",
            "conv2d_21 (Conv2D)           (None, 72, 72, 64)        36928     \n",
            "_________________________________________________________________\n",
            "max_pooling2d_21 (MaxPooling (None, 36, 36, 64)        0         \n",
            "_________________________________________________________________\n",
            "conv2d_22 (Conv2D)           (None, 34, 34, 128)       73856     \n",
            "_________________________________________________________________\n",
            "max_pooling2d_22 (MaxPooling (None, 17, 17, 128)       0         \n",
            "_________________________________________________________________\n",
            "conv2d_23 (Conv2D)           (None, 15, 15, 128)       147584    \n",
            "_________________________________________________________________\n",
            "max_pooling2d_23 (MaxPooling (None, 7, 7, 128)         0         \n",
            "_________________________________________________________________\n",
            "flatten_5 (Flatten)          (None, 6272)              0         \n",
            "_________________________________________________________________\n",
            "dropout_5 (Dropout)          (None, 6272)              0         \n",
            "_________________________________________________________________\n",
            "dense_10 (Dense)             (None, 512)               3211776   \n",
            "_________________________________________________________________\n",
            "dense_11 (Dense)             (None, 3)                 1539      \n",
            "=================================================================\n",
            "Total params: 3,473,475\n",
            "Trainable params: 3,473,475\n",
            "Non-trainable params: 0\n",
            "_________________________________________________________________\n"
          ],
          "name": "stdout"
        }
      ]
    },
    {
      "cell_type": "code",
      "metadata": {
        "id": "m-i-z31tUlrm"
      },
      "source": [
        "#membuat callback untuk menghentikan training saat parameter terpenuhi\n",
        "class myCallback(tf.keras.callbacks.Callback):\n",
        "  def on_epoch_end(self, epoch, logs={}):\n",
        "    if(logs.get('accuracy')>0.85 and logs.get('val_accuracy')>0.85):\n",
        "      print(\"\\nAkurasi sudah 85%, training selesai!\")\n",
        "      self.model.stop_training = True\n",
        "\n",
        "callbacks = myCallback()"
      ],
      "execution_count": null,
      "outputs": []
    },
    {
      "cell_type": "code",
      "metadata": {
        "colab": {
          "base_uri": "https://localhost:8080/"
        },
        "id": "C967YPeAUunc",
        "outputId": "8dee89e1-d346-4f91-abcb-60bcb5bf0a2d"
      },
      "source": [
        "#training model\n",
        "history = model.fit(data_train, \n",
        "                    epochs = 40, \n",
        "                    steps_per_epoch = 40,\n",
        "                    validation_data = data_val, \n",
        "                    validation_steps = 40,\n",
        "                    verbose = 1,\n",
        "                    callbacks = [callbacks])"
      ],
      "execution_count": null,
      "outputs": [
        {
          "output_type": "stream",
          "text": [
            "Epoch 1/40\n",
            "40/40 [==============================] - 120s 3s/step - loss: 1.0286 - accuracy: 0.4844 - val_loss: 0.9812 - val_accuracy: 0.5138\n",
            "Epoch 2/40\n",
            "40/40 [==============================] - 118s 3s/step - loss: 0.9421 - accuracy: 0.5312 - val_loss: 0.9223 - val_accuracy: 0.5475\n",
            "Epoch 3/40\n",
            "40/40 [==============================] - 117s 3s/step - loss: 0.9146 - accuracy: 0.5581 - val_loss: 0.8584 - val_accuracy: 0.5975\n",
            "Epoch 4/40\n",
            "40/40 [==============================] - 117s 3s/step - loss: 0.8646 - accuracy: 0.5981 - val_loss: 0.9040 - val_accuracy: 0.5638\n",
            "Epoch 5/40\n",
            "40/40 [==============================] - 116s 3s/step - loss: 0.8573 - accuracy: 0.6084 - val_loss: 0.8007 - val_accuracy: 0.6313\n",
            "Epoch 6/40\n",
            "40/40 [==============================] - 116s 3s/step - loss: 0.7964 - accuracy: 0.6538 - val_loss: 0.7334 - val_accuracy: 0.7000\n",
            "Epoch 7/40\n",
            "40/40 [==============================] - 116s 3s/step - loss: 0.7431 - accuracy: 0.6988 - val_loss: 0.6886 - val_accuracy: 0.7069\n",
            "Epoch 8/40\n",
            "40/40 [==============================] - 116s 3s/step - loss: 0.6907 - accuracy: 0.7156 - val_loss: 0.7129 - val_accuracy: 0.7200\n",
            "Epoch 9/40\n",
            "40/40 [==============================] - 116s 3s/step - loss: 0.7164 - accuracy: 0.7075 - val_loss: 0.6547 - val_accuracy: 0.7425\n",
            "Epoch 10/40\n",
            "40/40 [==============================] - 116s 3s/step - loss: 0.6501 - accuracy: 0.7383 - val_loss: 0.6897 - val_accuracy: 0.7287\n",
            "Epoch 11/40\n",
            "40/40 [==============================] - 116s 3s/step - loss: 0.6056 - accuracy: 0.7600 - val_loss: 0.5823 - val_accuracy: 0.7725\n",
            "Epoch 12/40\n",
            "40/40 [==============================] - 116s 3s/step - loss: 0.6030 - accuracy: 0.7550 - val_loss: 0.6378 - val_accuracy: 0.7569\n",
            "Epoch 13/40\n",
            "40/40 [==============================] - 115s 3s/step - loss: 0.5497 - accuracy: 0.7945 - val_loss: 0.5867 - val_accuracy: 0.7837\n",
            "Epoch 14/40\n",
            "40/40 [==============================] - 116s 3s/step - loss: 0.5719 - accuracy: 0.7673 - val_loss: 0.5797 - val_accuracy: 0.7862\n",
            "Epoch 15/40\n",
            "40/40 [==============================] - 116s 3s/step - loss: 0.5652 - accuracy: 0.7749 - val_loss: 0.5059 - val_accuracy: 0.8075\n",
            "Epoch 16/40\n",
            "40/40 [==============================] - 116s 3s/step - loss: 0.5325 - accuracy: 0.7900 - val_loss: 0.5216 - val_accuracy: 0.7944\n",
            "Epoch 17/40\n",
            "40/40 [==============================] - 116s 3s/step - loss: 0.5034 - accuracy: 0.8050 - val_loss: 0.5496 - val_accuracy: 0.7950\n",
            "Epoch 18/40\n",
            "40/40 [==============================] - 117s 3s/step - loss: 0.4857 - accuracy: 0.8062 - val_loss: 0.5266 - val_accuracy: 0.8037\n",
            "Epoch 19/40\n",
            "40/40 [==============================] - 116s 3s/step - loss: 0.4855 - accuracy: 0.8052 - val_loss: 0.5705 - val_accuracy: 0.7856\n",
            "Epoch 20/40\n",
            "40/40 [==============================] - 116s 3s/step - loss: 0.5122 - accuracy: 0.7950 - val_loss: 0.5470 - val_accuracy: 0.8006\n",
            "Epoch 21/40\n",
            "40/40 [==============================] - 116s 3s/step - loss: 0.5090 - accuracy: 0.7975 - val_loss: 0.5595 - val_accuracy: 0.7750\n",
            "Epoch 22/40\n",
            "40/40 [==============================] - 116s 3s/step - loss: 0.4767 - accuracy: 0.8163 - val_loss: 0.5199 - val_accuracy: 0.7944\n",
            "Epoch 23/40\n",
            "40/40 [==============================] - 116s 3s/step - loss: 0.4735 - accuracy: 0.8144 - val_loss: 0.6062 - val_accuracy: 0.7544\n",
            "Epoch 24/40\n",
            "40/40 [==============================] - 116s 3s/step - loss: 0.4916 - accuracy: 0.8225 - val_loss: 0.4538 - val_accuracy: 0.8319\n",
            "Epoch 25/40\n",
            "40/40 [==============================] - 116s 3s/step - loss: 0.4347 - accuracy: 0.8238 - val_loss: 0.4749 - val_accuracy: 0.8206\n",
            "Epoch 26/40\n",
            "40/40 [==============================] - 116s 3s/step - loss: 0.4537 - accuracy: 0.8306 - val_loss: 0.4625 - val_accuracy: 0.8219\n",
            "Epoch 27/40\n",
            "40/40 [==============================] - 116s 3s/step - loss: 0.4116 - accuracy: 0.8354 - val_loss: 0.4682 - val_accuracy: 0.8294\n",
            "Epoch 28/40\n",
            "40/40 [==============================] - 116s 3s/step - loss: 0.4495 - accuracy: 0.8175 - val_loss: 0.5001 - val_accuracy: 0.7950\n",
            "Epoch 29/40\n",
            "40/40 [==============================] - 116s 3s/step - loss: 0.4498 - accuracy: 0.8250 - val_loss: 0.4383 - val_accuracy: 0.8319\n",
            "Epoch 30/40\n",
            "40/40 [==============================] - 117s 3s/step - loss: 0.3670 - accuracy: 0.8644 - val_loss: 0.5486 - val_accuracy: 0.8119\n",
            "Epoch 31/40\n",
            "40/40 [==============================] - 116s 3s/step - loss: 0.4027 - accuracy: 0.8400 - val_loss: 0.4706 - val_accuracy: 0.8350\n",
            "Epoch 32/40\n",
            "40/40 [==============================] - 116s 3s/step - loss: 0.4268 - accuracy: 0.8425 - val_loss: 0.4629 - val_accuracy: 0.8294\n",
            "Epoch 33/40\n",
            "40/40 [==============================] - 116s 3s/step - loss: 0.4264 - accuracy: 0.8356 - val_loss: 0.4512 - val_accuracy: 0.8313\n",
            "Epoch 34/40\n",
            "40/40 [==============================] - 116s 3s/step - loss: 0.4450 - accuracy: 0.8213 - val_loss: 0.4039 - val_accuracy: 0.8450\n",
            "Epoch 35/40\n",
            "40/40 [==============================] - 116s 3s/step - loss: 0.4260 - accuracy: 0.8338 - val_loss: 0.5115 - val_accuracy: 0.8106\n",
            "Epoch 36/40\n",
            "40/40 [==============================] - 116s 3s/step - loss: 0.4305 - accuracy: 0.8275 - val_loss: 0.4388 - val_accuracy: 0.8300\n",
            "Epoch 37/40\n",
            "40/40 [==============================] - 116s 3s/step - loss: 0.4234 - accuracy: 0.8356 - val_loss: 0.4467 - val_accuracy: 0.8319\n",
            "Epoch 38/40\n",
            "40/40 [==============================] - 116s 3s/step - loss: 0.4190 - accuracy: 0.8481 - val_loss: 0.4508 - val_accuracy: 0.8313\n",
            "Epoch 39/40\n",
            "40/40 [==============================] - 115s 3s/step - loss: 0.3997 - accuracy: 0.8380 - val_loss: 0.4375 - val_accuracy: 0.8419\n",
            "Epoch 40/40\n",
            "40/40 [==============================] - 116s 3s/step - loss: 0.3947 - accuracy: 0.8487 - val_loss: 0.4447 - val_accuracy: 0.8369\n"
          ],
          "name": "stdout"
        }
      ]
    },
    {
      "cell_type": "code",
      "metadata": {
        "colab": {
          "base_uri": "https://localhost:8080/",
          "height": 295
        },
        "id": "nBc8rdad3D1R",
        "outputId": "15768abc-96b1-449c-e6bd-3637ca9673d5"
      },
      "source": [
        "#membuat plot akurasi\n",
        "import numpy as np\n",
        "import matplotlib.pyplot as plt\n",
        "plt.plot(history.history['accuracy'])\n",
        "plt.plot(history.history['val_accuracy'])\n",
        "plt.title('Accuracy')\n",
        "plt.ylabel('accuracy')\n",
        "plt.xlabel('epoch')\n",
        "plt.legend(['train', 'val'], loc='upper left')\n",
        "plt.show()"
      ],
      "execution_count": null,
      "outputs": [
        {
          "output_type": "display_data",
          "data": {
            "image/png": "[encoded data removed]",
            "text/plain": [
              "<Figure size 432x288 with 1 Axes>"
            ]
          },
          "metadata": {
            "tags": [],
            "needs_background": "light"
          }
        }
      ]
    },
    {
      "cell_type": "code",
      "metadata": {
        "colab": {
          "base_uri": "https://localhost:8080/",
          "height": 295
        },
        "id": "bheBQyQx3Kcj",
        "outputId": "51176e09-eb5b-4879-cfae-16f602f65a14"
      },
      "source": [
        "#membuat loss plot\n",
        "plt.plot(history.history['loss'])\n",
        "plt.plot(history.history['val_loss'])\n",
        "plt.title('Loss')\n",
        "plt.ylabel('loss')\n",
        "plt.xlabel('epoch')\n",
        "plt.legend(['train', 'val'], loc='upper left')\n",
        "plt.show()"
      ],
      "execution_count": null,
      "outputs": [
        {
          "output_type": "display_data",
          "data": {
            "image/png": "[encoded data removed]",
            "text/plain": [
              "<Figure size 432x288 with 1 Axes>"
            ]
          },
          "metadata": {
            "tags": [],
            "needs_background": "light"
          }
        }
      ]
    },
    {
      "cell_type": "code",
      "metadata": {
        "colab": {
          "base_uri": "https://localhost:8080/"
        },
        "id": "PXUuE1UK3NXy",
        "outputId": "fe384e82-5271-43d8-82c5-2c7240e5e482"
      },
      "source": [
        "#mengconvert model ke tf.lite\n",
        "converter = tf.lite.TFLiteConverter.from_keras_model(model)\n",
        "tflite_model = converter.convert()\n",
        "\n",
        "with tf.io.gfile.GFile('model.tflite', 'wb') as f:\n",
        "  f.write(tflite_model)"
      ],
      "execution_count": null,
      "outputs": [
        {
          "output_type": "stream",
          "text": [
            "INFO:tensorflow:Assets written to: /tmp/tmpj4_pceae/assets\n"
          ],
          "name": "stdout"
        },
        {
          "output_type": "stream",
          "text": [
            "INFO:tensorflow:Assets written to: /tmp/tmpj4_pceae/assets\n"
          ],
          "name": "stderr"
        }
      ]
    },
    {
      "cell_type": "code",
      "metadata": {
        "colab": {
          "base_uri": "https://localhost:8080/"
        },
        "id": "YN9SKdtm3Poj",
        "outputId": "35ff3bca-339f-473f-80c8-a73136495670"
      },
      "source": [
        "!ls -la | grep 'model'"
      ],
      "execution_count": null,
      "outputs": [
        {
          "output_type": "stream",
          "text": [
            "-rw-r--r-- 1 root root  13898824 Jul  9 07:36 model.tflite\n"
          ],
          "name": "stdout"
        }
      ]
    }
  ]
}